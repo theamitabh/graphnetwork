{
  "nbformat": 4,
  "nbformat_minor": 0,
  "metadata": {
    "colab": {
      "name": "GraphNetworks_Assignment3.ipynb",
      "provenance": []
    },
    "kernelspec": {
      "name": "python3",
      "display_name": "Python 3"
    }
  },
  "cells": [
    {
      "cell_type": "markdown",
      "metadata": {
        "id": "I3Mex8__itvf"
      },
      "source": [
        "# Analysing the  Network Diagram "
      ]
    },
    {
      "cell_type": "markdown",
      "metadata": {
        "id": "qJbJuw_bi9tz"
      },
      "source": [
        "Import libraries and the init the dataset fron github"
      ]
    },
    {
      "cell_type": "code",
      "metadata": {
        "id": "OKfIirUcRl4j"
      },
      "source": [
        "import pandas as pd\n",
        "import networkx as nx\n",
        "import numpy as np\n",
        "import matplotlib.pyplot as plt\n",
        "\n",
        "df= pd.read_csv(\"https://github.com/theamitabh/graphnetwork/raw/main/datasets/dataset.csv\")  #load the data set\n"
      ],
      "execution_count": 20,
      "outputs": []
    },
    {
      "cell_type": "code",
      "metadata": {
        "id": "thlrJ_ZtSwEU"
      },
      "source": [
        "df=df.sort_values(by=['user_id','date_created'])\n",
        "df[\"source\"] = df[\"chapter\"] + df[\"book\"] \n",
        "df[\"target\"]= df[\"source\"].shift(-1)   \n",
        "df[\"user_check\"]= df[\"user_id\"].shift(-1) # user_check column by shifting up a row to identify is user_id changes in next row\n",
        "\n"
      ],
      "execution_count": 21,
      "outputs": []
    },
    {
      "cell_type": "markdown",
      "metadata": {
        "id": "oFMV7guyeMlS"
      },
      "source": [
        "Identify whether to keep or drop the row.  Returns the user_id if next_row_user (in user_check) is the same is current user_id. If not NaN "
      ]
    },
    {
      "cell_type": "code",
      "metadata": {
        "id": "azgKA4WkePk3",
        "colab": {
          "base_uri": "https://localhost:8080/",
          "height": 299
        },
        "outputId": "07c5c3d6-ed03-4f77-9e05-2edf4c591d2c"
      },
      "source": [
        "df['keep_drop'] = np.where((df['user_check'] == df['user_id']) , df['user_id'], np.nan)\n",
        "\n",
        "df=df.dropna(subset=[\"keep_drop\"])  # build edge list my removing rows having keep_drop as null values\n",
        "\n",
        "df.head()\n"
      ],
      "execution_count": 22,
      "outputs": [
        {
          "output_type": "execute_result",
          "data": {
            "text/html": [
              "<div>\n",
              "<style scoped>\n",
              "    .dataframe tbody tr th:only-of-type {\n",
              "        vertical-align: middle;\n",
              "    }\n",
              "\n",
              "    .dataframe tbody tr th {\n",
              "        vertical-align: top;\n",
              "    }\n",
              "\n",
              "    .dataframe thead th {\n",
              "        text-align: right;\n",
              "    }\n",
              "</style>\n",
              "<table border=\"1\" class=\"dataframe\">\n",
              "  <thead>\n",
              "    <tr style=\"text-align: right;\">\n",
              "      <th></th>\n",
              "      <th>user_id</th>\n",
              "      <th>number_of_ticks</th>\n",
              "      <th>date_created</th>\n",
              "      <th>chapter</th>\n",
              "      <th>book</th>\n",
              "      <th>numberofentriesofbook</th>\n",
              "      <th>numberofusersofbook</th>\n",
              "      <th>product_manning_id</th>\n",
              "      <th>user_owns_book</th>\n",
              "      <th>source</th>\n",
              "      <th>target</th>\n",
              "      <th>user_check</th>\n",
              "      <th>keep_drop</th>\n",
              "    </tr>\n",
              "  </thead>\n",
              "  <tbody>\n",
              "    <tr>\n",
              "      <th>1</th>\n",
              "      <td>-2146355313</td>\n",
              "      <td>8</td>\n",
              "      <td>\"2019-12-14 10:05:50\"</td>\n",
              "      <td>chapter-8</td>\n",
              "      <td>fain3</td>\n",
              "      <td>737</td>\n",
              "      <td>225</td>\n",
              "      <td>1069</td>\n",
              "      <td>1</td>\n",
              "      <td>chapter-8fain3</td>\n",
              "      <td>chapter-1ramamurthy</td>\n",
              "      <td>-2.146355e+09</td>\n",
              "      <td>-2.146355e+09</td>\n",
              "    </tr>\n",
              "    <tr>\n",
              "      <th>2</th>\n",
              "      <td>-2146355313</td>\n",
              "      <td>8</td>\n",
              "      <td>\"2019-12-14 10:05:50\"</td>\n",
              "      <td>chapter-1</td>\n",
              "      <td>ramamurthy</td>\n",
              "      <td>715</td>\n",
              "      <td>202</td>\n",
              "      <td>1120</td>\n",
              "      <td>1</td>\n",
              "      <td>chapter-1ramamurthy</td>\n",
              "      <td>chapter-1thomas</td>\n",
              "      <td>-2.146355e+09</td>\n",
              "      <td>-2.146355e+09</td>\n",
              "    </tr>\n",
              "    <tr>\n",
              "      <th>29</th>\n",
              "      <td>-2145886989</td>\n",
              "      <td>10</td>\n",
              "      <td>\"2019-12-10 13:07:05\"</td>\n",
              "      <td>chapter-4</td>\n",
              "      <td>mcnamara</td>\n",
              "      <td>2533</td>\n",
              "      <td>461</td>\n",
              "      <td>880</td>\n",
              "      <td>1</td>\n",
              "      <td>chapter-4mcnamara</td>\n",
              "      <td>chapter-4mcnamara</td>\n",
              "      <td>-2.145887e+09</td>\n",
              "      <td>-2.145887e+09</td>\n",
              "    </tr>\n",
              "    <tr>\n",
              "      <th>32</th>\n",
              "      <td>-2145886989</td>\n",
              "      <td>10</td>\n",
              "      <td>\"2019-12-10 13:41:25\"</td>\n",
              "      <td>chapter-4</td>\n",
              "      <td>mcnamara</td>\n",
              "      <td>2533</td>\n",
              "      <td>461</td>\n",
              "      <td>880</td>\n",
              "      <td>1</td>\n",
              "      <td>chapter-4mcnamara</td>\n",
              "      <td>chapter-1mcnamara</td>\n",
              "      <td>-2.145887e+09</td>\n",
              "      <td>-2.145887e+09</td>\n",
              "    </tr>\n",
              "    <tr>\n",
              "      <th>7</th>\n",
              "      <td>-2145886989</td>\n",
              "      <td>1</td>\n",
              "      <td>\"2019-12-10 19:37:20\"</td>\n",
              "      <td>chapter-1</td>\n",
              "      <td>mcnamara</td>\n",
              "      <td>2533</td>\n",
              "      <td>461</td>\n",
              "      <td>880</td>\n",
              "      <td>1</td>\n",
              "      <td>chapter-1mcnamara</td>\n",
              "      <td>chapter-1mcnamara</td>\n",
              "      <td>-2.145887e+09</td>\n",
              "      <td>-2.145887e+09</td>\n",
              "    </tr>\n",
              "  </tbody>\n",
              "</table>\n",
              "</div>"
            ],
            "text/plain": [
              "       user_id  number_of_ticks  ...    user_check     keep_drop\n",
              "1  -2146355313                8  ... -2.146355e+09 -2.146355e+09\n",
              "2  -2146355313                8  ... -2.146355e+09 -2.146355e+09\n",
              "29 -2145886989               10  ... -2.145887e+09 -2.145887e+09\n",
              "32 -2145886989               10  ... -2.145887e+09 -2.145887e+09\n",
              "7  -2145886989                1  ... -2.145887e+09 -2.145887e+09\n",
              "\n",
              "[5 rows x 13 columns]"
            ]
          },
          "metadata": {
            "tags": []
          },
          "execution_count": 22
        }
      ]
    },
    {
      "cell_type": "markdown",
      "metadata": {
        "id": "ZYkq6cwDkyAF"
      },
      "source": [
        "Creating a network using [NetworkX Pandas Edge List function ](https://networkx.github.io/documentation/stable/reference/generated/networkx.convert_matrix.from_pandas_edgelist.html#)   and subsequent rendering"
      ]
    },
    {
      "cell_type": "code",
      "metadata": {
        "id": "zDTjWIyZkxP_"
      },
      "source": [
        "G=nx.from_pandas_edgelist(df,\"source\",\"target\", create_using=nx.DiGraph)"
      ],
      "execution_count": 23,
      "outputs": []
    },
    {
      "cell_type": "markdown",
      "metadata": {
        "id": "1N9AESbIcsBo"
      },
      "source": [
        "For downloading the csv files locally"
      ]
    },
    {
      "cell_type": "code",
      "metadata": {
        "id": "uFYx7jQFb-6Y",
        "colab": {
          "base_uri": "https://localhost:8080/",
          "height": 17
        },
        "outputId": "122553b5-204b-4897-8f97-a2be8239026d"
      },
      "source": [
        "# Colab specific\n",
        "from google.colab import files\n",
        "df.to_csv('data_for_gephi.csv')\n",
        "files.download('data_for_gephi.csv')\n"
      ],
      "execution_count": null,
      "outputs": [
        {
          "output_type": "display_data",
          "data": {
            "application/javascript": [
              "\n",
              "    async function download(id, filename, size) {\n",
              "      if (!google.colab.kernel.accessAllowed) {\n",
              "        return;\n",
              "      }\n",
              "      const div = document.createElement('div');\n",
              "      const label = document.createElement('label');\n",
              "      label.textContent = `Downloading \"${filename}\": `;\n",
              "      div.appendChild(label);\n",
              "      const progress = document.createElement('progress');\n",
              "      progress.max = size;\n",
              "      div.appendChild(progress);\n",
              "      document.body.appendChild(div);\n",
              "\n",
              "      const buffers = [];\n",
              "      let downloaded = 0;\n",
              "\n",
              "      const channel = await google.colab.kernel.comms.open(id);\n",
              "      // Send a message to notify the kernel that we're ready.\n",
              "      channel.send({})\n",
              "\n",
              "      for await (const message of channel.messages) {\n",
              "        // Send a message to notify the kernel that we're ready.\n",
              "        channel.send({})\n",
              "        if (message.buffers) {\n",
              "          for (const buffer of message.buffers) {\n",
              "            buffers.push(buffer);\n",
              "            downloaded += buffer.byteLength;\n",
              "            progress.value = downloaded;\n",
              "          }\n",
              "        }\n",
              "      }\n",
              "      const blob = new Blob(buffers, {type: 'application/binary'});\n",
              "      const a = document.createElement('a');\n",
              "      a.href = window.URL.createObjectURL(blob);\n",
              "      a.download = filename;\n",
              "      div.appendChild(a);\n",
              "      a.click();\n",
              "      div.remove();\n",
              "    }\n",
              "  "
            ],
            "text/plain": [
              "<IPython.core.display.Javascript object>"
            ]
          },
          "metadata": {
            "tags": []
          }
        },
        {
          "output_type": "display_data",
          "data": {
            "application/javascript": [
              "download(\"download_a868a23b-3d73-46fc-ae7e-3c10c140f999\", \"data_for_gephi.csv\", 627613)"
            ],
            "text/plain": [
              "<IPython.core.display.Javascript object>"
            ]
          },
          "metadata": {
            "tags": []
          }
        }
      ]
    },
    {
      "cell_type": "markdown",
      "metadata": {
        "id": "IJQbWsCzD6fi"
      },
      "source": [
        "**Calculate Centrality**"
      ]
    },
    {
      "cell_type": "code",
      "metadata": {
        "id": "Bu9L5jcjDdh7",
        "colab": {
          "base_uri": "https://localhost:8080/"
        },
        "outputId": "042ecb82-9b28-42ba-91c7-9c6a77d0d1ec"
      },
      "source": [
        "out=nx.out_degree_centrality(G)\n",
        "nx.set_node_attributes(G, out, 'out-degree')\n",
        "\n",
        "bb = nx.betweenness_centrality(G)\n",
        "nx.set_node_attributes(G, bb, 'betweenness')\n",
        "\n",
        "eigen= nx.eigenvector_centrality(G)\n",
        "nx.set_node_attributes(G, eigen, 'eigen')\n",
        "\n",
        "#List of all chapter & all centrality\n",
        "data_list=list(G.nodes(data=True))\n",
        "\n",
        "data_list[25]  # Sample  list content \n",
        "\n"
      ],
      "execution_count": 27,
      "outputs": [
        {
          "output_type": "execute_result",
          "data": {
            "text/plain": [
              "('welcomeborgatti',\n",
              " {'betweenness': 0.0011775774589375227,\n",
              "  'eigen': 1.4960051529769776e-13,\n",
              "  'out-degree': 0.0007132667617689016})"
            ]
          },
          "metadata": {
            "tags": []
          },
          "execution_count": 27
        }
      ]
    },
    {
      "cell_type": "code",
      "metadata": {
        "id": "XRxHzSdlF0lv",
        "colab": {
          "base_uri": "https://localhost:8080/",
          "height": 195
        },
        "outputId": "8f6744d6-0b9f-4bcc-804a-bb39f8f7159e"
      },
      "source": [
        "data = {}  #init a dictionary\n",
        "data['chapter']=[x[0] for x in data_list]\n",
        "data['out-degree'] = [x[1]['out-degree'] for x in data_list]\n",
        "data['eigen'] = [x[1]['eigen'] for x in data_list]\n",
        "data['betweenness'] = [x[1]['betweenness'] for x in data_list]\n",
        "dfcentrality = pd.DataFrame(data)\n",
        "dfcentrality.head()\n",
        "\n"
      ],
      "execution_count": 29,
      "outputs": [
        {
          "output_type": "execute_result",
          "data": {
            "text/html": [
              "<div>\n",
              "<style scoped>\n",
              "    .dataframe tbody tr th:only-of-type {\n",
              "        vertical-align: middle;\n",
              "    }\n",
              "\n",
              "    .dataframe tbody tr th {\n",
              "        vertical-align: top;\n",
              "    }\n",
              "\n",
              "    .dataframe thead th {\n",
              "        text-align: right;\n",
              "    }\n",
              "</style>\n",
              "<table border=\"1\" class=\"dataframe\">\n",
              "  <thead>\n",
              "    <tr style=\"text-align: right;\">\n",
              "      <th></th>\n",
              "      <th>chapter</th>\n",
              "      <th>out-degree</th>\n",
              "      <th>eigen</th>\n",
              "      <th>betweenness</th>\n",
              "    </tr>\n",
              "  </thead>\n",
              "  <tbody>\n",
              "    <tr>\n",
              "      <th>0</th>\n",
              "      <td>chapter-8fain3</td>\n",
              "      <td>0.000713</td>\n",
              "      <td>5.159157e-46</td>\n",
              "      <td>0.000000e+00</td>\n",
              "    </tr>\n",
              "    <tr>\n",
              "      <th>1</th>\n",
              "      <td>chapter-1ramamurthy</td>\n",
              "      <td>0.000713</td>\n",
              "      <td>3.405044e-44</td>\n",
              "      <td>5.091126e-07</td>\n",
              "    </tr>\n",
              "    <tr>\n",
              "      <th>2</th>\n",
              "      <td>chapter-1thomas</td>\n",
              "      <td>0.000000</td>\n",
              "      <td>1.107155e-42</td>\n",
              "      <td>0.000000e+00</td>\n",
              "    </tr>\n",
              "    <tr>\n",
              "      <th>3</th>\n",
              "      <td>chapter-4mcnamara</td>\n",
              "      <td>0.002140</td>\n",
              "      <td>7.421039e-11</td>\n",
              "      <td>1.095101e-03</td>\n",
              "    </tr>\n",
              "    <tr>\n",
              "      <th>4</th>\n",
              "      <td>chapter-1mcnamara</td>\n",
              "      <td>0.001427</td>\n",
              "      <td>5.105664e-11</td>\n",
              "      <td>1.540575e-03</td>\n",
              "    </tr>\n",
              "  </tbody>\n",
              "</table>\n",
              "</div>"
            ],
            "text/plain": [
              "               chapter  out-degree         eigen   betweenness\n",
              "0       chapter-8fain3    0.000713  5.159157e-46  0.000000e+00\n",
              "1  chapter-1ramamurthy    0.000713  3.405044e-44  5.091126e-07\n",
              "2      chapter-1thomas    0.000000  1.107155e-42  0.000000e+00\n",
              "3    chapter-4mcnamara    0.002140  7.421039e-11  1.095101e-03\n",
              "4    chapter-1mcnamara    0.001427  5.105664e-11  1.540575e-03"
            ]
          },
          "metadata": {
            "tags": []
          },
          "execution_count": 29
        }
      ]
    },
    {
      "cell_type": "code",
      "metadata": {
        "id": "PsKVdYlSLSKc",
        "colab": {
          "base_uri": "https://localhost:8080/",
          "height": 166
        },
        "outputId": "59c2f08d-7d14-451f-ff73-3229e2bb0bc9"
      },
      "source": [
        "row1 = [n for n in G['chapter-4mcnamara']]\n",
        "df2= pd.DataFrame(row1)\n",
        "\n",
        "\n",
        "df3=df2.set_index(0).join(dfcentrality.set_index('chapter'))\n",
        "df3=df3.sort_values(by=['eigen'],ascending=False)\n",
        "df3"
      ],
      "execution_count": 34,
      "outputs": [
        {
          "output_type": "execute_result",
          "data": {
            "text/html": [
              "<div>\n",
              "<style scoped>\n",
              "    .dataframe tbody tr th:only-of-type {\n",
              "        vertical-align: middle;\n",
              "    }\n",
              "\n",
              "    .dataframe tbody tr th {\n",
              "        vertical-align: top;\n",
              "    }\n",
              "\n",
              "    .dataframe thead th {\n",
              "        text-align: right;\n",
              "    }\n",
              "</style>\n",
              "<table border=\"1\" class=\"dataframe\">\n",
              "  <thead>\n",
              "    <tr style=\"text-align: right;\">\n",
              "      <th></th>\n",
              "      <th>out-degree</th>\n",
              "      <th>eigen</th>\n",
              "      <th>betweenness</th>\n",
              "    </tr>\n",
              "    <tr>\n",
              "      <th>0</th>\n",
              "      <th></th>\n",
              "      <th></th>\n",
              "      <th></th>\n",
              "    </tr>\n",
              "  </thead>\n",
              "  <tbody>\n",
              "    <tr>\n",
              "      <th>chapter-4mcnamara</th>\n",
              "      <td>0.002140</td>\n",
              "      <td>7.421039e-11</td>\n",
              "      <td>0.001095</td>\n",
              "    </tr>\n",
              "    <tr>\n",
              "      <th>chapter-1mcnamara</th>\n",
              "      <td>0.001427</td>\n",
              "      <td>5.105664e-11</td>\n",
              "      <td>0.001541</td>\n",
              "    </tr>\n",
              "    <tr>\n",
              "      <th>chapter-5mcnamara</th>\n",
              "      <td>0.002140</td>\n",
              "      <td>5.105664e-11</td>\n",
              "      <td>0.000006</td>\n",
              "    </tr>\n",
              "  </tbody>\n",
              "</table>\n",
              "</div>"
            ],
            "text/plain": [
              "                   out-degree         eigen  betweenness\n",
              "0                                                       \n",
              "chapter-4mcnamara    0.002140  7.421039e-11     0.001095\n",
              "chapter-1mcnamara    0.001427  5.105664e-11     0.001541\n",
              "chapter-5mcnamara    0.002140  5.105664e-11     0.000006"
            ]
          },
          "metadata": {
            "tags": []
          },
          "execution_count": 34
        }
      ]
    }
  ]
}